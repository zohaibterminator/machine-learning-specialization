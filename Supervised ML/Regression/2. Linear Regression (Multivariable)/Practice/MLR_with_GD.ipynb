{
 "cells": [
  {
   "cell_type": "code",
   "execution_count": 4,
   "metadata": {},
   "outputs": [],
   "source": [
    "import numpy as np\n",
    "import matplotlib.pyplot as plt\n",
    "import seaborn as sns\n",
    "import pandas as pd\n",
    "import copy\n",
    "import math"
   ]
  },
  {
   "cell_type": "code",
   "execution_count": 5,
   "metadata": {},
   "outputs": [],
   "source": [
    "x_train = np.array([[2104, 5, 1, 45], [1416, 3, 2, 40], [852, 2, 1, 35]])\n",
    "y_train = np.array([460, 232, 178])"
   ]
  },
  {
   "cell_type": "code",
   "execution_count": 6,
   "metadata": {},
   "outputs": [
    {
     "name": "stdout",
     "output_type": "stream",
     "text": [
      "w_init shape: (4,), b_init type: <class 'float'>\n"
     ]
    }
   ],
   "source": [
    "b_init = 785.1811367994083\n",
    "w_init = np.array([ 0.39133535, 18.75376741, -53.36032453, -26.42131618])\n",
    "print(f\"w_init shape: {w_init.shape}, b_init type: {type(b_init)}\")"
   ]
  },
  {
   "cell_type": "markdown",
   "metadata": {},
   "source": [
    "#### Prediction using predefined W and B"
   ]
  },
  {
   "cell_type": "code",
   "execution_count": 7,
   "metadata": {},
   "outputs": [],
   "source": [
    "def predict_loop(x, w, b):\n",
    "  n = x.shape[0]\n",
    "  p = 0\n",
    "  for i in range(n):\n",
    "    p += w[i] * x[i]\n",
    "  p += b\n",
    "  return p\n",
    "\n",
    "def predict_vectorized(x, w, b):\n",
    "  return np.dot(w, x) + b"
   ]
  },
  {
   "cell_type": "code",
   "execution_count": 8,
   "metadata": {},
   "outputs": [
    {
     "name": "stdout",
     "output_type": "stream",
     "text": [
      "459.9999976194083\n",
      "459.9999976194082\n"
     ]
    }
   ],
   "source": [
    "x_vec = x_train[0, :] # all features of the first row\n",
    "print(predict_loop(x_vec, w_init, b_init))\n",
    "print(predict_vectorized(x_vec, w_init, b_init))"
   ]
  },
  {
   "cell_type": "markdown",
   "metadata": {},
   "source": [
    "#### Computing Cost"
   ]
  },
  {
   "cell_type": "code",
   "execution_count": 9,
   "metadata": {},
   "outputs": [],
   "source": [
    "def compute_cost(x, y, w, b):\n",
    "  m = x.shape[0]\n",
    "  cost = 0.0\n",
    "\n",
    "  for i in range(m):\n",
    "    f_wb = np.dot(x[i], w) + b\n",
    "    cost += (f_wb - y[i])**2\n",
    "\n",
    "  cost /= 2*m\n",
    "  return cost"
   ]
  },
  {
   "cell_type": "code",
   "execution_count": 10,
   "metadata": {},
   "outputs": [
    {
     "name": "stdout",
     "output_type": "stream",
     "text": [
      "1.5578904330213735e-12\n"
     ]
    }
   ],
   "source": [
    "cost = compute_cost(x_train, y_train, w_init, b_init)\n",
    "print(cost)"
   ]
  },
  {
   "cell_type": "markdown",
   "metadata": {},
   "source": [
    "#### Gradient Descent with Multiple Values"
   ]
  },
  {
   "cell_type": "code",
   "execution_count": 30,
   "metadata": {},
   "outputs": [],
   "source": [
    "def compute_gradient(x, y, w, b):\n",
    "  m, n = x.shape\n",
    "  dj_dw = np.zeros(n)\n",
    "  dj_db = 0.0\n",
    "\n",
    "  for i in range(m):\n",
    "    err = (np.dot(x[i], w) + b) - y[i]\n",
    "    for j in range(n):\n",
    "      dj_dw[j] += err * x[i, j]\n",
    "    dj_db += err\n",
    "  \n",
    "  dj_dw /= m\n",
    "  dj_db /= m\n",
    "\n",
    "  return dj_dw, dj_db\n",
    "\n",
    "def gradient_descent(x, y, w, b, alpha, num_iters, cost):\n",
    "  J_history = []\n",
    "  w = copy.deepcopy(w)\n",
    "\n",
    "  for i in range(num_iters):\n",
    "    dj_dw, dj_db = compute_gradient(x, y, w, b)\n",
    "    w -= alpha * dj_dw\n",
    "    b -= alpha * dj_db\n",
    "\n",
    "    if i < 100000:\n",
    "      J_history.append(cost(x, y, w, b))\n",
    "    \n",
    "    if i% math.ceil(num_iters/10) == 0:\n",
    "      print(\"Iteration {:4d}, cost is {:8.2f}\".format(i,J_history[-1]))\n",
    "\n",
    "  return w, b, J_history"
   ]
  },
  {
   "cell_type": "code",
   "execution_count": 31,
   "metadata": {},
   "outputs": [
    {
     "name": "stdout",
     "output_type": "stream",
     "text": [
      "Iteration    0, cost is  2529.46\n",
      "Iteration 10000, cost is   624.82\n",
      "Iteration 20000, cost is   594.33\n",
      "Iteration 30000, cost is   581.01\n",
      "Iteration 40000, cost is   574.73\n",
      "Iteration 50000, cost is   571.36\n",
      "Iteration 60000, cost is   569.18\n",
      "Iteration 70000, cost is   567.49\n",
      "Iteration 80000, cost is   566.01\n",
      "Iteration 90000, cost is   564.61\n"
     ]
    }
   ],
   "source": [
    "w = np.zeros_like(w_init)\n",
    "b = 0.0\n",
    "alpha = 5.0e-7\n",
    "iterations = 100000\n",
    "\n",
    "w_final , b_final, J_hist = gradient_descent(x_train, y_train, w, b, alpha, iterations, compute_cost)"
   ]
  },
  {
   "cell_type": "code",
   "execution_count": 28,
   "metadata": {},
   "outputs": [
    {
     "name": "stdout",
     "output_type": "stream",
     "text": [
      "b,w found by gradient descent: -0.00, [ 0.20396569  0.00374919 -0.0112487  -0.0658614 ]\n"
     ]
    }
   ],
   "source": [
    "print(f\"b,w found by gradient descent: {b_final:0.2f}, {w_final}\")"
   ]
  },
  {
   "cell_type": "code",
   "execution_count": 24,
   "metadata": {},
   "outputs": [
    {
     "data": {
      "image/png": "[encoded data removed]",
      "text/plain": [
       "<Figure size 640x480 with 1 Axes>"
      ]
     },
     "metadata": {},
     "output_type": "display_data"
    }
   ],
   "source": [
    "iters = np.arange(iterations)\n",
    "plt.plot(J_hist, iters, color='blue')\n",
    "plt.xlabel('Iterations')\n",
    "plt.ylabel('Cost')\n",
    "plt.title('Error vs. Training Epoch')\n",
    "plt.show()"
   ]
  }
 ],
 "metadata": {
  "kernelspec": {
   "display_name": "base",
   "language": "python",
   "name": "python3"
  },
  "language_info": {
   "codemirror_mode": {
    "name": "ipython",
    "version": 3
   },
   "file_extension": ".py",
   "mimetype": "text/x-python",
   "name": "python",
   "nbconvert_exporter": "python",
   "pygments_lexer": "ipython3",
   "version": "3.11.5"
  }
 },
 "nbformat": 4,
 "nbformat_minor": 2
}
